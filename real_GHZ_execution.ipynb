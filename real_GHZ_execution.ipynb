{
 "cells": [
  {
   "cell_type": "code",
   "execution_count": 1,
   "metadata": {},
   "outputs": [],
   "source": [
    "# GENERAL GATES\n",
    "measure_gate = 'measure'\n",
    "reset_gate = 'reset'\n",
    "\n",
    "# 1. IONQ -> Only valid gates are:\n",
    "#   - GPI: Puerta IonQ GPi\n",
    "#   - GPI2: Puerta IonQ GPi2.\n",
    "#   - MS: Puerta IonQ de Mølmer-Sørenson.\n",
    "\n",
    "#GPI = Rz(2ϕ)X\n",
    "#GPI2 = Rz(ϕ)Rx(π/2)Rz(−ϕ)\n",
    "ionq_predecomposition_gates = [\"id\", \"rx\", \"ry\", \"rz\", \"cx\"]\n",
    "ionq_valid_1qgates = ['gpi', 'gpi2']\n",
    "ionq_valid_2qgates = ['ms']\n",
    "ionq_valid_gates = ionq_valid_1qgates + ionq_valid_2qgates\n",
    "\n",
    "# 2. IBMQ Kyiv -> ECR, ID, RZ, SX, X\n",
    "ibmq_valid_1qgates = [\"id\", \"rz\", \"sx\", \"x\"]\n",
    "ibmq_valid_2qgates = [\"ecr\"]\n",
    "ibmq_valid_gates = ibmq_valid_1qgates + ibmq_valid_2qgates"
   ]
  },
  {
   "cell_type": "markdown",
   "metadata": {},
   "source": [
    "# CIRCUIT TO SIMULATE"
   ]
  },
  {
   "cell_type": "code",
   "execution_count": 2,
   "metadata": {},
   "outputs": [],
   "source": [
    "from qiskit import QuantumCircuit, ClassicalRegister\n",
    "\n",
    "def initialize_circuit(qregs = None, n_qubits = None):\n",
    "    if qregs is None:\n",
    "        return QuantumCircuit(n_qubits)\n",
    "    \n",
    "    qregs_list = qregs.values()\n",
    "    return QuantumCircuit(*qregs_list)\n",
    "\n",
    "\n",
    "def get_circuit_max120qubits(qregs = None, n_qubits = None):\n",
    "    q_circuit = initialize_circuit(qregs, n_qubits)\n",
    "\n",
    "    q_circuit.h(0)\n",
    "    for i in range(119):\n",
    "        q_circuit.cx(i, i+1)\n",
    "    \n",
    "    q_circuit.measure_all()\n",
    "    return q_circuit"
   ]
  },
  {
   "cell_type": "code",
   "execution_count": 13,
   "metadata": {},
   "outputs": [
    {
     "ename": "ValueError",
     "evalue": "An invalid Estimator pub-like was given (<class 'qiskit.circuit.quantumcircuit.QuantumCircuit'>). If you want to run a single pub, you need to wrap it with `[]` like `estimator.run([(circuit, observables, param_values)])` instead of `estimator.run((circuit, observables, param_values))`.",
     "output_type": "error",
     "traceback": [
      "\u001b[1;31m---------------------------------------------------------------------------\u001b[0m",
      "\u001b[1;31mValueError\u001b[0m                                Traceback (most recent call last)",
      "Cell \u001b[1;32mIn[13], line 13\u001b[0m\n\u001b[0;32m     11\u001b[0m estimator \u001b[38;5;241m=\u001b[39m Estimator(backend, options\u001b[38;5;241m=\u001b[39m{\u001b[38;5;124m\"\u001b[39m\u001b[38;5;124mdefault_shots\u001b[39m\u001b[38;5;124m\"\u001b[39m: \u001b[38;5;241m2000\u001b[39m})\n\u001b[0;32m     12\u001b[0m isa_circuit \u001b[38;5;241m=\u001b[39m pm\u001b[38;5;241m.\u001b[39mrun(get_circuit_max120qubits(n_qubits\u001b[38;5;241m=\u001b[39m\u001b[38;5;241m120\u001b[39m))\n\u001b[1;32m---> 13\u001b[0m job \u001b[38;5;241m=\u001b[39m \u001b[43mestimator\u001b[49m\u001b[38;5;241;43m.\u001b[39;49m\u001b[43mrun\u001b[49m\u001b[43m(\u001b[49m\u001b[43m[\u001b[49m\u001b[43misa_circuit\u001b[49m\u001b[43m]\u001b[49m\u001b[43m)\u001b[49m\n",
      "File \u001b[1;32md:\\UNIR\\TFM\\.venv_modern\\Lib\\site-packages\\qiskit_ibm_runtime\\estimator.py:193\u001b[0m, in \u001b[0;36mEstimatorV2.run\u001b[1;34m(self, pubs, precision)\u001b[0m\n\u001b[0;32m    177\u001b[0m \u001b[38;5;28;01mdef\u001b[39;00m \u001b[38;5;21mrun\u001b[39m(\n\u001b[0;32m    178\u001b[0m     \u001b[38;5;28mself\u001b[39m, pubs: Iterable[EstimatorPubLike], \u001b[38;5;241m*\u001b[39m, precision: \u001b[38;5;28mfloat\u001b[39m \u001b[38;5;241m|\u001b[39m \u001b[38;5;28;01mNone\u001b[39;00m \u001b[38;5;241m=\u001b[39m \u001b[38;5;28;01mNone\u001b[39;00m\n\u001b[0;32m    179\u001b[0m ) \u001b[38;5;241m-\u001b[39m\u001b[38;5;241m>\u001b[39m RuntimeJobV2:\n\u001b[0;32m    180\u001b[0m \u001b[38;5;250m    \u001b[39m\u001b[38;5;124;03m\"\"\"Submit a request to the estimator primitive.\u001b[39;00m\n\u001b[0;32m    181\u001b[0m \n\u001b[0;32m    182\u001b[0m \u001b[38;5;124;03m    Args:\u001b[39;00m\n\u001b[1;32m   (...)\u001b[0m\n\u001b[0;32m    191\u001b[0m \n\u001b[0;32m    192\u001b[0m \u001b[38;5;124;03m    \"\"\"\u001b[39;00m\n\u001b[1;32m--> 193\u001b[0m     coerced_pubs \u001b[38;5;241m=\u001b[39m \u001b[43m[\u001b[49m\u001b[43mEstimatorPub\u001b[49m\u001b[38;5;241;43m.\u001b[39;49m\u001b[43mcoerce\u001b[49m\u001b[43m(\u001b[49m\u001b[43mpub\u001b[49m\u001b[43m,\u001b[49m\u001b[43m \u001b[49m\u001b[43mprecision\u001b[49m\u001b[43m)\u001b[49m\u001b[43m \u001b[49m\u001b[38;5;28;43;01mfor\u001b[39;49;00m\u001b[43m \u001b[49m\u001b[43mpub\u001b[49m\u001b[43m \u001b[49m\u001b[38;5;129;43;01min\u001b[39;49;00m\u001b[43m \u001b[49m\u001b[43mpubs\u001b[49m\u001b[43m]\u001b[49m\n\u001b[0;32m    194\u001b[0m     validate_estimator_pubs(coerced_pubs)\n\u001b[0;32m    195\u001b[0m     \u001b[38;5;28;01mreturn\u001b[39;00m \u001b[38;5;28mself\u001b[39m\u001b[38;5;241m.\u001b[39m_run(coerced_pubs)\n",
      "File \u001b[1;32md:\\UNIR\\TFM\\.venv_modern\\Lib\\site-packages\\qiskit_ibm_runtime\\estimator.py:193\u001b[0m, in \u001b[0;36m<listcomp>\u001b[1;34m(.0)\u001b[0m\n\u001b[0;32m    177\u001b[0m \u001b[38;5;28;01mdef\u001b[39;00m \u001b[38;5;21mrun\u001b[39m(\n\u001b[0;32m    178\u001b[0m     \u001b[38;5;28mself\u001b[39m, pubs: Iterable[EstimatorPubLike], \u001b[38;5;241m*\u001b[39m, precision: \u001b[38;5;28mfloat\u001b[39m \u001b[38;5;241m|\u001b[39m \u001b[38;5;28;01mNone\u001b[39;00m \u001b[38;5;241m=\u001b[39m \u001b[38;5;28;01mNone\u001b[39;00m\n\u001b[0;32m    179\u001b[0m ) \u001b[38;5;241m-\u001b[39m\u001b[38;5;241m>\u001b[39m RuntimeJobV2:\n\u001b[0;32m    180\u001b[0m \u001b[38;5;250m    \u001b[39m\u001b[38;5;124;03m\"\"\"Submit a request to the estimator primitive.\u001b[39;00m\n\u001b[0;32m    181\u001b[0m \n\u001b[0;32m    182\u001b[0m \u001b[38;5;124;03m    Args:\u001b[39;00m\n\u001b[1;32m   (...)\u001b[0m\n\u001b[0;32m    191\u001b[0m \n\u001b[0;32m    192\u001b[0m \u001b[38;5;124;03m    \"\"\"\u001b[39;00m\n\u001b[1;32m--> 193\u001b[0m     coerced_pubs \u001b[38;5;241m=\u001b[39m [\u001b[43mEstimatorPub\u001b[49m\u001b[38;5;241;43m.\u001b[39;49m\u001b[43mcoerce\u001b[49m\u001b[43m(\u001b[49m\u001b[43mpub\u001b[49m\u001b[43m,\u001b[49m\u001b[43m \u001b[49m\u001b[43mprecision\u001b[49m\u001b[43m)\u001b[49m \u001b[38;5;28;01mfor\u001b[39;00m pub \u001b[38;5;129;01min\u001b[39;00m pubs]\n\u001b[0;32m    194\u001b[0m     validate_estimator_pubs(coerced_pubs)\n\u001b[0;32m    195\u001b[0m     \u001b[38;5;28;01mreturn\u001b[39;00m \u001b[38;5;28mself\u001b[39m\u001b[38;5;241m.\u001b[39m_run(coerced_pubs)\n",
      "File \u001b[1;32md:\\UNIR\\TFM\\.venv_modern\\Lib\\site-packages\\qiskit\\primitives\\containers\\estimator_pub.py:137\u001b[0m, in \u001b[0;36mEstimatorPub.coerce\u001b[1;34m(cls, pub, precision)\u001b[0m\n\u001b[0;32m    134\u001b[0m     \u001b[38;5;28;01mreturn\u001b[39;00m pub\n\u001b[0;32m    136\u001b[0m \u001b[38;5;28;01mif\u001b[39;00m \u001b[38;5;28misinstance\u001b[39m(pub, QuantumCircuit):\n\u001b[1;32m--> 137\u001b[0m     \u001b[38;5;28;01mraise\u001b[39;00m \u001b[38;5;167;01mValueError\u001b[39;00m(\n\u001b[0;32m    138\u001b[0m         \u001b[38;5;124mf\u001b[39m\u001b[38;5;124m\"\u001b[39m\u001b[38;5;124mAn invalid Estimator pub-like was given (\u001b[39m\u001b[38;5;132;01m{\u001b[39;00m\u001b[38;5;28mtype\u001b[39m(pub)\u001b[38;5;132;01m}\u001b[39;00m\u001b[38;5;124m). \u001b[39m\u001b[38;5;124m\"\u001b[39m\n\u001b[0;32m    139\u001b[0m         \u001b[38;5;124m\"\u001b[39m\u001b[38;5;124mIf you want to run a single pub, you need to wrap it with `[]` like \u001b[39m\u001b[38;5;124m\"\u001b[39m\n\u001b[0;32m    140\u001b[0m         \u001b[38;5;124m\"\u001b[39m\u001b[38;5;124m`estimator.run([(circuit, observables, param_values)])` \u001b[39m\u001b[38;5;124m\"\u001b[39m\n\u001b[0;32m    141\u001b[0m         \u001b[38;5;124m\"\u001b[39m\u001b[38;5;124minstead of `estimator.run((circuit, observables, param_values))`.\u001b[39m\u001b[38;5;124m\"\u001b[39m\n\u001b[0;32m    142\u001b[0m     )\n\u001b[0;32m    144\u001b[0m \u001b[38;5;28;01mif\u001b[39;00m \u001b[38;5;28mlen\u001b[39m(pub) \u001b[38;5;129;01mnot\u001b[39;00m \u001b[38;5;129;01min\u001b[39;00m [\u001b[38;5;241m2\u001b[39m, \u001b[38;5;241m3\u001b[39m, \u001b[38;5;241m4\u001b[39m]:\n\u001b[0;32m    145\u001b[0m     \u001b[38;5;28;01mraise\u001b[39;00m \u001b[38;5;167;01mValueError\u001b[39;00m(\n\u001b[0;32m    146\u001b[0m         \u001b[38;5;124mf\u001b[39m\u001b[38;5;124m\"\u001b[39m\u001b[38;5;124mThe length of pub must be 2, 3 or 4, but length \u001b[39m\u001b[38;5;132;01m{\u001b[39;00m\u001b[38;5;28mlen\u001b[39m(pub)\u001b[38;5;132;01m}\u001b[39;00m\u001b[38;5;124m is given.\u001b[39m\u001b[38;5;124m\"\u001b[39m\n\u001b[0;32m    147\u001b[0m     )\n",
      "\u001b[1;31mValueError\u001b[0m: An invalid Estimator pub-like was given (<class 'qiskit.circuit.quantumcircuit.QuantumCircuit'>). If you want to run a single pub, you need to wrap it with `[]` like `estimator.run([(circuit, observables, param_values)])` instead of `estimator.run((circuit, observables, param_values))`."
     ]
    }
   ],
   "source": [
    "from qiskit_ibm_runtime import QiskitRuntimeService, EstimatorV2 as Estimator\n",
    "from qiskit.transpiler.preset_passmanagers import generate_preset_pass_manager\n",
    "from qiskit.quantum_info import SparsePauliOp\n",
    "\n",
    "n_qubits = 120\n",
    " \n",
    "service = QiskitRuntimeService(channel=\"ibm_quantum\", token=\"83c50a9eda4c0a420b822eb58610cbbbc9e39e1232e773d5c1cf9de2c06722776875de7e178c01d7d74563775fe117706ffd958f12e84f78a22b8470908e17b3\")\n",
    "backend = service.least_busy(operational=True, simulator=False, min_num_qubits=n_qubits)\n",
    "pm = generate_preset_pass_manager(backend=backend, optimization_level=1)\n",
    "\n",
    "estimator = Estimator(backend, options={\"default_shots\": 2000})\n",
    "isa_circuit = pm.run(get_circuit_max120qubits(n_qubits=120))\n",
    "job = estimator.run([isa_circuit])"
   ]
  },
  {
   "cell_type": "code",
   "execution_count": null,
   "metadata": {},
   "outputs": [
    {
     "ename": "AttributeError",
     "evalue": "'DataBin' object has no attribute 'meas'",
     "output_type": "error",
     "traceback": [
      "\u001b[1;31m---------------------------------------------------------------------------\u001b[0m",
      "\u001b[1;31mAttributeError\u001b[0m                            Traceback (most recent call last)",
      "Cell \u001b[1;32mIn[12], line 4\u001b[0m\n\u001b[0;32m      1\u001b[0m job_result \u001b[38;5;241m=\u001b[39m job\u001b[38;5;241m.\u001b[39mresult()\n\u001b[0;32m      3\u001b[0m \u001b[38;5;28;01mfor\u001b[39;00m idx, pub_result \u001b[38;5;129;01min\u001b[39;00m \u001b[38;5;28menumerate\u001b[39m(job_result):\n\u001b[1;32m----> 4\u001b[0m     \u001b[38;5;28mprint\u001b[39m(\u001b[38;5;124mf\u001b[39m\u001b[38;5;124m\"\u001b[39m\u001b[38;5;124mExpectation values for pub \u001b[39m\u001b[38;5;132;01m{\u001b[39;00midx\u001b[38;5;132;01m}\u001b[39;00m\u001b[38;5;124m: \u001b[39m\u001b[38;5;132;01m{\u001b[39;00m\u001b[43mpub_result\u001b[49m\u001b[38;5;241;43m.\u001b[39;49m\u001b[43mdata\u001b[49m\u001b[38;5;241;43m.\u001b[39;49m\u001b[43mmeas\u001b[49m\u001b[38;5;241m.\u001b[39mget_counts()\u001b[38;5;132;01m}\u001b[39;00m\u001b[38;5;124m\"\u001b[39m)\n",
      "\u001b[1;31mAttributeError\u001b[0m: 'DataBin' object has no attribute 'meas'"
     ]
    }
   ],
   "source": [
    "job_result = job.result()\n",
    "\n",
    "for idx, pub_result in enumerate(job_result):\n",
    "    print(f\"Expectation values for pub {idx}: {pub_result.data.meas.get_counts()}\")"
   ]
  }
 ],
 "metadata": {
  "kernelspec": {
   "display_name": ".venv",
   "language": "python",
   "name": "python3"
  },
  "language_info": {
   "codemirror_mode": {
    "name": "ipython",
    "version": 3
   },
   "file_extension": ".py",
   "mimetype": "text/x-python",
   "name": "python",
   "nbconvert_exporter": "python",
   "pygments_lexer": "ipython3",
   "version": "3.11.6"
  }
 },
 "nbformat": 4,
 "nbformat_minor": 2
}
